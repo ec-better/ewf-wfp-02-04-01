{
 "cells": [
  {
   "cell_type": "markdown",
   "metadata": {
    "slideshow": {
     "slide_type": "skip"
    }
   },
   "source": [
    "## CHIRPS COGs\n",
    "### better-wfp-02-04-01"
   ]
  },
  {
   "cell_type": "markdown",
   "metadata": {},
   "source": [
    "This application takes a CHIPS products, performs COGs and return the optimized product togheter with a .yml file"
   ]
  },
  {
   "cell_type": "markdown",
   "metadata": {},
   "source": [
    "### <a name=\"service\">Service definition"
   ]
  },
  {
   "cell_type": "code",
   "execution_count": null,
   "metadata": {
    "collapsed": true
   },
   "outputs": [],
   "source": [
    "service = dict([('title', 'CHIRPS COGs'),\n",
    "                ('abstract', 'CHIRPS COGs'),\n",
    "                ('id', 'ewf-wfp-02-04-01')])"
   ]
  },
  {
   "cell_type": "markdown",
   "metadata": {},
   "source": [
    "### <a name=\"runtime\">Runtime parameter definition"
   ]
  },
  {
   "cell_type": "markdown",
   "metadata": {},
   "source": [
    "**Input identifiers**"
   ]
  },
  {
   "cell_type": "code",
   "execution_count": null,
   "metadata": {},
   "outputs": [],
   "source": [
    "input_identifiers = ['chirps-v2.0.2019.09.10']"
   ]
  },
  {
   "cell_type": "markdown",
   "metadata": {},
   "source": [
    "**Input references**"
   ]
  },
  {
   "cell_type": "code",
   "execution_count": null,
   "metadata": {},
   "outputs": [],
   "source": [
    "input_references = ['https://catalog.terradue.com/chirps/search?uid=chirps-v2.0.2019.09.10']"
   ]
  },
  {
   "cell_type": "markdown",
   "metadata": {
    "slideshow": {
     "slide_type": "slide"
    }
   },
   "source": [
    "**Data path**\n",
    "\n",
    "This path defines where the data is staged-in. "
   ]
  },
  {
   "cell_type": "code",
   "execution_count": null,
   "metadata": {
    "collapsed": true
   },
   "outputs": [],
   "source": [
    "data_path = '/workspace/data'"
   ]
  },
  {
   "cell_type": "markdown",
   "metadata": {},
   "source": [
    "### <a name=\"workflow\">Workflow"
   ]
  },
  {
   "cell_type": "markdown",
   "metadata": {},
   "source": [
    "#### Import the packages required for processing the data"
   ]
  },
  {
   "cell_type": "code",
   "execution_count": null,
   "metadata": {
    "collapsed": true
   },
   "outputs": [],
   "source": [
    "%load_ext autoreload\n",
    "%autoreload 2\n",
    "\n",
    "import os\n",
    "import sys\n",
    "import yaml\n",
    "\n",
    "sys.path.append('/application/notebook/libexec/') \n",
    "sys.path.append(os.getcwd())\n",
    "\n",
    "from ellip_helpers import *\n",
    "from uuid import uuid4\n",
    "from shapely.wkt import loads\n",
    "\n",
    "import gdal\n",
    "\n",
    "import cioppy\n",
    "ciop = cioppy.Cioppy()"
   ]
  },
  {
   "cell_type": "markdown",
   "metadata": {},
   "source": [
    "## Read the products"
   ]
  },
  {
   "cell_type": "markdown",
   "metadata": {},
   "source": [
    "### check if all the products have the same track number"
   ]
  },
  {
   "cell_type": "code",
   "execution_count": null,
   "metadata": {},
   "outputs": [],
   "source": [
    "metadata = dict()\n",
    "\n",
    "try:\n",
    "    metadata = ciop.search(end_point=input_references[0],\n",
    "                         params=dict(),\n",
    "                         output_fields='',\n",
    "                         model='GeoTime')[0]\n",
    "    \n",
    "    print metadata\n",
    "\n",
    "except Exception as e:\n",
    "    print('ERROR: could not retrieve products metadata. {}'.format(e))"
   ]
  },
  {
   "cell_type": "code",
   "execution_count": null,
   "metadata": {},
   "outputs": [],
   "source": [
    "metadata"
   ]
  },
  {
   "cell_type": "markdown",
   "metadata": {},
   "source": [
    "### Copy the input in the local folder"
   ]
  },
  {
   "cell_type": "code",
   "execution_count": null,
   "metadata": {},
   "outputs": [],
   "source": [
    "product_name = input_identifiers[0]+'.tif'\n",
    "\n",
    "product_name"
   ]
  },
  {
   "cell_type": "code",
   "execution_count": null,
   "metadata": {},
   "outputs": [],
   "source": [
    "os.listdir(os.getcwd())"
   ]
  },
  {
   "cell_type": "code",
   "execution_count": null,
   "metadata": {},
   "outputs": [],
   "source": [
    "product_path = os.path.join(data_path, product_name)\n",
    "\n",
    "product_path"
   ]
  },
  {
   "cell_type": "code",
   "execution_count": null,
   "metadata": {},
   "outputs": [],
   "source": [
    "path = ciop.copy(product_path, os.getcwd())\n",
    "\n",
    "path"
   ]
  },
  {
   "cell_type": "code",
   "execution_count": null,
   "metadata": {},
   "outputs": [],
   "source": [
    "os.listdir(os.getcwd())"
   ]
  },
  {
   "cell_type": "code",
   "execution_count": null,
   "metadata": {},
   "outputs": [],
   "source": [
    "os.rename(product_name, '{}_{}'.format('temp', product_name))"
   ]
  },
  {
   "cell_type": "code",
   "execution_count": null,
   "metadata": {},
   "outputs": [],
   "source": [
    "os.listdir(os.getcwd())"
   ]
  },
  {
   "cell_type": "code",
   "execution_count": null,
   "metadata": {},
   "outputs": [],
   "source": [
    "print gdal.Info('temp_' + product_name)"
   ]
  },
  {
   "cell_type": "markdown",
   "metadata": {},
   "source": [
    "### Apply Cog"
   ]
  },
  {
   "cell_type": "code",
   "execution_count": null,
   "metadata": {},
   "outputs": [],
   "source": [
    "cog('temp_' + product_name, product_name, clear=True)"
   ]
  },
  {
   "cell_type": "code",
   "execution_count": null,
   "metadata": {},
   "outputs": [],
   "source": [
    "os.listdir(os.getcwd())"
   ]
  },
  {
   "cell_type": "code",
   "execution_count": null,
   "metadata": {},
   "outputs": [],
   "source": [
    "print gdal.Info(input_identifiers[0] + '.tif')"
   ]
  },
  {
   "cell_type": "markdown",
   "metadata": {},
   "source": [
    "### Extract projection and geo_transform"
   ]
  },
  {
   "cell_type": "code",
   "execution_count": null,
   "metadata": {},
   "outputs": [],
   "source": [
    "ds = gdal.Open(product_name)"
   ]
  },
  {
   "cell_type": "code",
   "execution_count": null,
   "metadata": {},
   "outputs": [],
   "source": [
    "metadata['geo_transform'] = ds.GetGeoTransform()\n",
    "metadata['projection'] = ds.GetProjection()\n",
    "ds.FlushCache()"
   ]
  },
  {
   "cell_type": "code",
   "execution_count": null,
   "metadata": {},
   "outputs": [],
   "source": [
    "metadata"
   ]
  },
  {
   "cell_type": "markdown",
   "metadata": {},
   "source": [
    "### Create yaml file"
   ]
  },
  {
   "cell_type": "code",
   "execution_count": null,
   "metadata": {},
   "outputs": [],
   "source": [
    "metadata['valid_data'] = [[-127.56829548716837, 50.0], [-178.5499711456919, 28.451697453558694], [-180.0, -14.227485158242985], [-180.0, -19.477637468425044],\n",
    "                          [-177.14966157616104, -43.85580860396533], [-176.92428210072717, -44.1937092674017], [-176.47428209402165, -44.44370927112699],\n",
    "                          [-76.54920491878684, -50.00000149011612], [-32.97103354229944, -50.00000149011612], [179.04997943956363, -49.75161095788991],\n",
    "                          [180.00000536441803, -20.253305991160417], [180.00000536441803, -10.005885337836311], [179.99612502572722, -9.33068827589868],\n",
    "                          [155.19609441497164, 49.669384662964575], [154.7723656682719, 49.89472135798122], [147.63822384433456, 50.0], [-127.56829548716837, 50.0]]"
   ]
  },
  {
   "cell_type": "code",
   "execution_count": null,
   "metadata": {},
   "outputs": [],
   "source": [
    "yaml_file = {\n",
    "            'creation_dt':metadata['startdate'][0:10],\n",
    "            'extent':{\n",
    "                'center_dt':metadata['startdate'][0:10],\n",
    "                'coord':{\n",
    "                    'ul':{\n",
    "                        'lon': list(loads(metadata['wkt']).exterior.coords)[3][0],\n",
    "                        'lat': list(loads(metadata['wkt']).exterior.coords)[3][1],\n",
    "                    },\n",
    "                    'ur':{\n",
    "                        'lon': list(loads(metadata['wkt']).exterior.coords)[2][0],\n",
    "                        'lat': list(loads(metadata['wkt']).exterior.coords)[2][1],\n",
    "                    },\n",
    "                    'll':{\n",
    "                        'lon': list(loads(metadata['wkt']).exterior.coords)[0][0],\n",
    "                        'lat': list(loads(metadata['wkt']).exterior.coords)[0][1],\n",
    "                    },\n",
    "                    'lr':{\n",
    "                        'lon': list(loads(metadata['wkt']).exterior.coords)[1][0],\n",
    "                        'lat': list(loads(metadata['wkt']).exterior.coords)[1][1],\n",
    "                    },\n",
    "                },\n",
    "                'from_dt':metadata['startdate'][0:10],\n",
    "                'to_dt':metadata['enddate'][0:10],\n",
    "                },\n",
    "            'format':{'name':'GeoTiff'},\n",
    "            'grid_spatial':{\n",
    "                'projection':{\n",
    "                    'geo_ref_points':{\n",
    "                        'ul':{\n",
    "                            'x': list(loads(metadata['wkt']).exterior.coords)[3][0],\n",
    "                            'y': list(loads(metadata['wkt']).exterior.coords)[3][1],\n",
    "                        },\n",
    "                        'ur':{\n",
    "                            'x': list(loads(metadata['wkt']).exterior.coords)[2][0],\n",
    "                            'y': list(loads(metadata['wkt']).exterior.coords)[2][1],\n",
    "                        },\n",
    "                        'll':{\n",
    "                            'x': list(loads(metadata['wkt']).exterior.coords)[0][0],\n",
    "                            'y': list(loads(metadata['wkt']).exterior.coords)[0][1],\n",
    "                        },\n",
    "                        'lr':{\n",
    "                            'x': list(loads(metadata['wkt']).exterior.coords)[1][0],\n",
    "                            'y': list(loads(metadata['wkt']).exterior.coords)[1][1],\n",
    "                        },\n",
    "                    },\n",
    "                    'spatial_reference':metadata['projection'],\n",
    "                    'valid_data':{\n",
    "                        'coordinates':metadata['valid_data'],\n",
    "                        'type':'Polygon',\n",
    "                        },\n",
    "                    },\n",
    "                },\n",
    "            'id': str(uuid4()),\n",
    "            'image':{\n",
    "                'bands':{'rfe':{'path':product_name}}\n",
    "            },\n",
    "            'instrument':{'name':'VIRS'},\n",
    "            'lineage': {'source_datasets':'CHIRPS'},\n",
    "            'platform':{'code':'TRMM'},\n",
    "            'processing_level':'ARD',\n",
    "            'product_type':'chirps_daily',\n",
    "        }"
   ]
  },
  {
   "cell_type": "code",
   "execution_count": null,
   "metadata": {},
   "outputs": [],
   "source": [
    "yaml_file"
   ]
  },
  {
   "cell_type": "code",
   "execution_count": null,
   "metadata": {},
   "outputs": [],
   "source": [
    "with open('metadata.yaml', 'w') as outfile:\n",
    "    yaml.dump(yaml_file, outfile, default_flow_style=False)"
   ]
  },
  {
   "cell_type": "markdown",
   "metadata": {},
   "source": [
    "### Metadata"
   ]
  },
  {
   "cell_type": "code",
   "execution_count": null,
   "metadata": {},
   "outputs": [],
   "source": [
    "# metadata for product\n",
    "\n",
    "create_metadata(metadata, metadata['identifier'])\n",
    "\n",
    "# metadate for yaml file\n",
    "\n",
    "metadata['identifier'] = 'metadata.yaml'\n",
    "metadata['title'] = 'metadata yaml file'\n",
    "\n",
    "create_metadata(metadata, metadata['identifier'])"
   ]
  },
  {
   "cell_type": "markdown",
   "metadata": {},
   "source": [
    "### License"
   ]
  },
  {
   "cell_type": "markdown",
   "metadata": {
    "slideshow": {
     "slide_type": "subslide"
    }
   },
   "source": [
    "This work is licenced under a [Attribution-ShareAlike 4.0 International License (CC BY-SA 4.0)](http://creativecommons.org/licenses/by-sa/4.0/) \n",
    "\n",
    "YOU ARE FREE TO:\n",
    "\n",
    "* Share - copy and redistribute the material in any medium or format.\n",
    "* Adapt - remix, transform, and built upon the material for any purpose, even commercially.\n",
    "\n",
    "UNDER THE FOLLOWING TERMS:\n",
    "\n",
    "* Attribution - You must give appropriate credit, provide a link to the license, and indicate if changes were made. You may do so in any reasonable manner, but not in any way that suggests the licensor endorses you or your use.\n",
    "* ShareAlike - If you remix, transform, or build upon the material, you must distribute your contributions under the same license as the original."
   ]
  }
 ],
 "metadata": {
  "kernelspec": {
   "display_name": "Python 2",
   "language": "python",
   "name": "python2"
  },
  "language_info": {
   "codemirror_mode": {
    "name": "ipython",
    "version": 2
   },
   "file_extension": ".py",
   "mimetype": "text/x-python",
   "name": "python",
   "nbconvert_exporter": "python",
   "pygments_lexer": "ipython2",
   "version": "2.7.12"
  }
 },
 "nbformat": 4,
 "nbformat_minor": 2
}
